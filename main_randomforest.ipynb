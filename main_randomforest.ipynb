{
 "cells": [
  {
   "cell_type": "code",
   "execution_count": 1,
   "id": "940f8f42",
   "metadata": {},
   "outputs": [],
   "source": [
    "#Import the necessary libraries\n",
    "import pandas as pd\n",
    "import numpy as np\n",
    "from sklearn.pipeline import Pipeline\n",
    "from sklearn.preprocessing import StandardScaler, OneHotEncoder\n",
    "from sklearn.compose import ColumnTransformer\n",
    "from sklearn.model_selection import train_test_split, GridSearchCV"
   ]
  },
  {
   "cell_type": "code",
   "execution_count": 2,
   "id": "eabd49b7",
   "metadata": {},
   "outputs": [],
   "source": [
    "df = pd.read_csv(\"Datasets.csv\")"
   ]
  },
  {
   "cell_type": "code",
   "execution_count": 3,
   "id": "0947cf74",
   "metadata": {},
   "outputs": [
    {
     "name": "stdout",
     "output_type": "stream",
     "text": [
      "<class 'pandas.core.frame.DataFrame'>\n",
      "RangeIndex: 5472 entries, 0 to 5471\n",
      "Data columns (total 19 columns):\n",
      " #   Column              Non-Null Count  Dtype  \n",
      "---  ------              --------------  -----  \n",
      " 0   ID                  5472 non-null   object \n",
      " 1   Sender_IP           5472 non-null   object \n",
      " 2   Sender_Port         5472 non-null   int64  \n",
      " 3   Target_IP           5472 non-null   object \n",
      " 4   Target_Port         5472 non-null   int64  \n",
      " 5   Transport_Protocol  5472 non-null   int64  \n",
      " 6   Duration            5472 non-null   float64\n",
      " 7   AvgDuration         5472 non-null   float64\n",
      " 8   PBS                 5472 non-null   int64  \n",
      " 9   AvgPBS              5472 non-null   float64\n",
      " 10  TBS                 5472 non-null   int64  \n",
      " 11  PBR                 5472 non-null   int64  \n",
      " 12  AvgPBR              5472 non-null   float64\n",
      " 13  TBR                 5472 non-null   int64  \n",
      " 14  Missed_Bytes        5472 non-null   int64  \n",
      " 15  Packets_Sent        5472 non-null   int64  \n",
      " 16  Packets_Received    5472 non-null   int64  \n",
      " 17  SRPR                5472 non-null   float64\n",
      " 18  class               5472 non-null   int64  \n",
      "dtypes: float64(5), int64(11), object(3)\n",
      "memory usage: 812.4+ KB\n"
     ]
    }
   ],
   "source": [
    "df.info()"
   ]
  },
  {
   "cell_type": "code",
   "execution_count": 4,
   "id": "dbcdd617",
   "metadata": {},
   "outputs": [
    {
     "data": {
      "text/plain": [
       "ID                    0\n",
       "Sender_IP             0\n",
       "Sender_Port           0\n",
       "Target_IP             0\n",
       "Target_Port           0\n",
       "Transport_Protocol    0\n",
       "Duration              0\n",
       "AvgDuration           0\n",
       "PBS                   0\n",
       "AvgPBS                0\n",
       "TBS                   0\n",
       "PBR                   0\n",
       "AvgPBR                0\n",
       "TBR                   0\n",
       "Missed_Bytes          0\n",
       "Packets_Sent          0\n",
       "Packets_Received      0\n",
       "SRPR                  0\n",
       "class                 0\n",
       "dtype: int64"
      ]
     },
     "execution_count": 4,
     "metadata": {},
     "output_type": "execute_result"
    }
   ],
   "source": [
    "df.isnull().sum()"
   ]
  },
  {
   "cell_type": "code",
   "execution_count": 6,
   "id": "14af556e",
   "metadata": {},
   "outputs": [],
   "source": [
    "X = df.drop('class', axis=1) # Defining Independend Varible\n",
    "y = df['class']              # Defining Target Varible"
   ]
  },
  {
   "cell_type": "markdown",
   "id": "517b9128",
   "metadata": {},
   "source": [
    "## Preprocess and modeling using pipeline"
   ]
  },
  {
   "cell_type": "code",
   "execution_count": 5,
   "id": "8aeba3fc",
   "metadata": {},
   "outputs": [],
   "source": [
    "#Classifiers\n",
    "from sklearn.ensemble import RandomForestClassifier\n",
    "from sklearn.metrics import accuracy_score\n",
    "from sklearn.metrics import classification_report"
   ]
  },
  {
   "cell_type": "code",
   "execution_count": 7,
   "id": "c67cf48c",
   "metadata": {},
   "outputs": [],
   "source": [
    "# As \"info()\" funtion show dataset contains both numeric and categorical features. we need to enocode them separately.\n",
    "numeric_columns = X.select_dtypes(include=['float64', 'int64']).columns   # Select numeric columns\n",
    "categorical_columns = X.select_dtypes(include=['object']).columns         # Select categorical columns"
   ]
  },
  {
   "cell_type": "code",
   "execution_count": 8,
   "id": "e171f5c8",
   "metadata": {},
   "outputs": [],
   "source": [
    "# Create transformers for numeric and categorical columns\n",
    "numeric_transformer = Pipeline(steps=[\n",
    "    ('scaler', StandardScaler())\n",
    "])\n",
    "\n",
    "categorical_transformer = Pipeline(steps=[\n",
    "    ('onehot', OneHotEncoder(handle_unknown='ignore'))\n",
    "])\n",
    "\n",
    "# Create a column transformer to apply transformers to respective columns\n",
    "preprocessor = ColumnTransformer(\n",
    "    transformers=[\n",
    "        ('num', numeric_transformer, numeric_columns),\n",
    "        ('cat', categorical_transformer, categorical_columns)\n",
    "    ])"
   ]
  },
  {
   "cell_type": "code",
   "execution_count": 9,
   "id": "e913038f",
   "metadata": {},
   "outputs": [],
   "source": [
    "pipeline = Pipeline(steps=[('preprocessor', preprocessor),\n",
    "                           ('classifier', RandomForestClassifier(random_state=42))])"
   ]
  },
  {
   "cell_type": "markdown",
   "id": "78889b03",
   "metadata": {},
   "source": [
    "## Fit and train the model"
   ]
  },
  {
   "cell_type": "code",
   "execution_count": 10,
   "id": "9be27a3b",
   "metadata": {},
   "outputs": [
    {
     "data": {
      "text/plain": [
       "Pipeline(steps=[('preprocessor',\n",
       "                 ColumnTransformer(transformers=[('num',\n",
       "                                                  Pipeline(steps=[('scaler',\n",
       "                                                                   StandardScaler())]),\n",
       "                                                  Index(['Sender_Port', 'Target_Port', 'Transport_Protocol', 'Duration',\n",
       "       'AvgDuration', 'PBS', 'AvgPBS', 'TBS', 'PBR', 'AvgPBR', 'TBR',\n",
       "       'Missed_Bytes', 'Packets_Sent', 'Packets_Received', 'SRPR'],\n",
       "      dtype='object')),\n",
       "                                                 ('cat',\n",
       "                                                  Pipeline(steps=[('onehot',\n",
       "                                                                   OneHotEncoder(handle_unknown='ignore'))]),\n",
       "                                                  Index(['ID', 'Sender_IP', 'Target_IP'], dtype='object'))])),\n",
       "                ('classifier', RandomForestClassifier(random_state=42))])"
      ]
     },
     "execution_count": 10,
     "metadata": {},
     "output_type": "execute_result"
    }
   ],
   "source": [
    "X_train, X_test, y_train, y_test = train_test_split(X, y, test_size=0.2, random_state=42)\n",
    "\n",
    "# Train the model\n",
    "pipeline.fit(X_train, y_train)"
   ]
  },
  {
   "cell_type": "code",
   "execution_count": 16,
   "id": "dd49d729",
   "metadata": {},
   "outputs": [
    {
     "name": "stdout",
     "output_type": "stream",
     "text": [
      "Accuracy: \u001b[1m91.05022831050228\u001b[0m\n",
      "              precision    recall  f1-score   support\n",
      "\n",
      "           0       0.88      0.88      0.88       407\n",
      "           1       0.93      0.93      0.93       688\n",
      "\n",
      "    accuracy                           0.91      1095\n",
      "   macro avg       0.90      0.90      0.90      1095\n",
      "weighted avg       0.91      0.91      0.91      1095\n",
      "\n"
     ]
    }
   ],
   "source": [
    "# Make predictions on the testing set with default estimators\n",
    "y_pred_a = pipeline.predict(X_test)\n",
    "accuracy = accuracy_score(y_test, y_pred_a)\n",
    "print(f'Accuracy: \\033[1m{accuracy*100}\\033[0m')\n",
    "print(classification_report(y_test,y_pred_a))"
   ]
  },
  {
   "cell_type": "markdown",
   "id": "93ae18e2",
   "metadata": {},
   "source": [
    "## Hyper parameter tuning using GridSearchCV"
   ]
  },
  {
   "cell_type": "code",
   "execution_count": 13,
   "id": "64a5afdd",
   "metadata": {},
   "outputs": [
    {
     "name": "stdout",
     "output_type": "stream",
     "text": [
      "Best Parameters: {'classifier__max_depth': None, 'classifier__min_samples_leaf': 1, 'classifier__min_samples_split': 5, 'classifier__n_estimators': 100}\n"
     ]
    }
   ],
   "source": [
    "# Define hyperparameters to tune\n",
    "param_grid = {\n",
    "    'classifier__n_estimators': [50, 100, 150],\n",
    "    'classifier__max_depth': [None, 10, 20],\n",
    "    'classifier__min_samples_split': [2, 5, 10],\n",
    "    'classifier__min_samples_leaf': [1, 2, 4]\n",
    "}\n",
    "\n",
    "# Use Grid Search with Cross-Validation to find the best parameters\n",
    "grid_search = GridSearchCV(pipeline, param_grid, cv=5, scoring='accuracy')\n",
    "grid_search.fit(X, y)\n",
    "print(\"Best Parameters:\", grid_search.best_params_)"
   ]
  },
  {
   "cell_type": "code",
   "execution_count": 20,
   "id": "76237f17",
   "metadata": {},
   "outputs": [
    {
     "name": "stdout",
     "output_type": "stream",
     "text": [
      "Accuracy: \u001b[1m99.54337899543378\u001b[0m\n",
      "              precision    recall  f1-score   support\n",
      "\n",
      "           0       1.00      0.99      0.99       407\n",
      "           1       0.99      1.00      1.00       688\n",
      "\n",
      "    accuracy                           1.00      1095\n",
      "   macro avg       1.00      0.99      1.00      1095\n",
      "weighted avg       1.00      1.00      1.00      1095\n",
      "\n"
     ]
    }
   ],
   "source": [
    "# Make predictions on the testing set with Best estimators by GridSearchCv\n",
    "y_pred_b = grid_search.best_estimator_.predict(X_test)\n",
    "accuracy = accuracy_score(y_test, y_pred_b)\n",
    "print(f'Accuracy: \\033[1m{accuracy*100}\\033[0m')\n",
    "print(classification_report(y_test,y_pred_b))"
   ]
  },
  {
   "cell_type": "code",
   "execution_count": null,
   "id": "03ab5374",
   "metadata": {},
   "outputs": [],
   "source": []
  }
 ],
 "metadata": {
  "kernelspec": {
   "display_name": "Python 3 (ipykernel)",
   "language": "python",
   "name": "python3"
  },
  "language_info": {
   "codemirror_mode": {
    "name": "ipython",
    "version": 3
   },
   "file_extension": ".py",
   "mimetype": "text/x-python",
   "name": "python",
   "nbconvert_exporter": "python",
   "pygments_lexer": "ipython3",
   "version": "3.9.13"
  }
 },
 "nbformat": 4,
 "nbformat_minor": 5
}
